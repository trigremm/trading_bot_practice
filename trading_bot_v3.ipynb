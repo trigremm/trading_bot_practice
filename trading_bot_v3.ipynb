{
 "cells": [
  {
   "cell_type": "code",
   "execution_count": 1,
   "id": "72e6fda8-da97-4ecf-8aaa-4b11f3e00565",
   "metadata": {},
   "outputs": [],
   "source": [
    "# Binance testnet API keys\n",
    "api_key = '4BGMTWih9DFfQ4Js7fFA7gkwqPoz7QTQXK14dI78pk7Q8TWOVhCMMQhTluiCo3M6'\n",
    "secret = '0SLIP1eQQ2u2rlWXovsmGKIgPhuVNYwxxizJi4ylJg1XhkcPK5RbTngEsWt28rts'"
   ]
  },
  {
   "cell_type": "code",
   "execution_count": 2,
   "id": "7efc0ad1-e5cc-4ccc-a198-cd9eac309dba",
   "metadata": {},
   "outputs": [],
   "source": [
    "# import modules\n",
    "import ccxt\n",
    "\n",
    "from decimal import Decimal\n",
    "from time import sleep\n",
    "import datetime "
   ]
  },
  {
   "cell_type": "code",
   "execution_count": 3,
   "id": "5e2a42ba-7870-4b39-9de1-c3d0bc84f9d8",
   "metadata": {},
   "outputs": [],
   "source": [
    "def get_exchange():\n",
    "    # Create a Binance client instance configured for testnet\n",
    "    exchange = ccxt.binance({\n",
    "        'apiKey': api_key,\n",
    "        'secret': secret,\n",
    "        'enableRateLimit': True,\n",
    "        'options': {\n",
    "            'defaultType': 'spot',\n",
    "            'testnet': True  # Enable testnet mode\n",
    "        }\n",
    "    })\n",
    "    return exchange\n",
    "\n",
    "exchange = get_exchange()"
   ]
  },
  {
   "cell_type": "code",
   "execution_count": 4,
   "id": "09a170d2-0033-4492-93b6-d23309773c37",
   "metadata": {},
   "outputs": [],
   "source": [
    "def get_current_price(currency):\n",
    "    symbol = f\"{currency}/USDT\"\n",
    "    try:\n",
    "        ticker = exchange.fetch_ticker(symbol)\n",
    "        current_price = ticker['last']\n",
    "        print(f\"The current price of {symbol} is {current_price} USDT.\")\n",
    "        return current_price\n",
    "    except ccxt.NetworkError as e:\n",
    "        print(f\"Network error: {str(e)}\")\n",
    "    except ccxt.ExchangeError as e:\n",
    "        print(f\"Exchange error: {str(e)}\")\n",
    "    except Exception as e:\n",
    "        print(f\"An unexpected error occurred: {str(e)}\")"
   ]
  },
  {
   "cell_type": "code",
   "execution_count": 5,
   "id": "598e6cf2-2fec-4af5-ba67-e797ec0107bd",
   "metadata": {},
   "outputs": [
    {
     "name": "stdout",
     "output_type": "stream",
     "text": [
      "The current price of BTC/USDT is 64276.03 USDT.\n"
     ]
    },
    {
     "data": {
      "text/plain": [
       "64276.03"
      ]
     },
     "execution_count": 5,
     "metadata": {},
     "output_type": "execute_result"
    }
   ],
   "source": [
    "get_current_price('BTC')"
   ]
  },
  {
   "cell_type": "code",
   "execution_count": 6,
   "id": "fe6a1dc9-78fb-4f6d-85a2-37e8445a031f",
   "metadata": {},
   "outputs": [
    {
     "data": {
      "text/plain": [
       "[[1722495180000, 64328.0, 64328.0, 64302.61, 64305.6, 0.13463],\n",
       " [1722495240000, 64305.61, 64457.0, 64253.87, 64268.66, 1.10719],\n",
       " [1722495300000, 64457.0, 64559.0, 64150.0, 64251.71, 1.49125],\n",
       " [1722495360000, 64252.01, 64675.0, 50486.0, 64260.24, 4.15553],\n",
       " [1722495420000, 64267.02, 64273.64, 64267.02, 64273.64, 0.03465]]"
      ]
     },
     "execution_count": 6,
     "metadata": {},
     "output_type": "execute_result"
    }
   ],
   "source": [
    "def fetch_ohlcv(symbol, timeframe='1m', limit=100):\n",
    "    try:\n",
    "        # Fetch OHLCV data\n",
    "        ohlcv = exchange.fetch_ohlcv(symbol, timeframe=timeframe, limit=limit)\n",
    "        \n",
    "        # # Print the OHLCV data\n",
    "        # print(f\"OHLCV data for {symbol} (timeframe: {timeframe}):\")\n",
    "        # for candle in ohlcv:\n",
    "        #     timestamp, open_, high, low, close, volume = candle\n",
    "        #     time = datetime.datetime.fromtimestamp(timestamp/1000, datetime.UTC)\n",
    "        #     # print(f\"Time: {time}, Open: {open_}, High: {high}, Low: {low}, Close: {close}, Volume: {volume}\")\n",
    "        \n",
    "        return ohlcv\n",
    "    except ccxt.NetworkError as e:\n",
    "        print(f\"Network error: {str(e)}\")\n",
    "    except ccxt.ExchangeError as e:\n",
    "        print(f\"Exchange error: {str(e)}\")\n",
    "    except Exception as e:\n",
    "        print(f\"An unexpected error occurred: {str(e)}\")\n",
    "\n",
    "# Fetch and print OHLC data for BTC/USDT\n",
    "fetch_ohlcv('BTC/USDT', limit=5) "
   ]
  },
  {
   "cell_type": "code",
   "execution_count": 7,
   "id": "b7d3a8c7-81a1-47a4-959b-8955a88c468f",
   "metadata": {},
   "outputs": [
    {
     "data": {
      "text/plain": [
       "[64328.01, 64305.6, 64268.66, 64251.71, 64260.24, 64273.64]"
      ]
     },
     "execution_count": 7,
     "metadata": {},
     "output_type": "execute_result"
    }
   ],
   "source": [
    "def get_indicators(currency, limit=100):\n",
    "    ohlcv = fetch_ohlcv(currency, limit = limit)\n",
    "    close = [i[4] for i in ohlcv]\n",
    "    return close \n",
    "\n",
    "get_indicators('BTC/USDT', limit = 6)"
   ]
  },
  {
   "cell_type": "code",
   "execution_count": 8,
   "id": "5ab44d5d-a623-48cc-8b65-97372e07dc13",
   "metadata": {},
   "outputs": [],
   "source": [
    "def get_markets():\n",
    "    return exchange.load_markets()\n",
    "\n",
    "markets = get_markets()"
   ]
  },
  {
   "cell_type": "code",
   "execution_count": 9,
   "id": "1296298f-acd6-4ddb-a8e6-13b5634c37ec",
   "metadata": {},
   "outputs": [
    {
     "name": "stdout",
     "output_type": "stream",
     "text": [
      "found\n"
     ]
    }
   ],
   "source": [
    "found_flag = False\n",
    "for i in markets:\n",
    "    if 'WBTC/USDT' in i:\n",
    "        found_flag = True\n",
    "        break\n",
    "print ('found' if found_flag else 'Not found')"
   ]
  },
  {
   "cell_type": "code",
   "execution_count": 10,
   "id": "44c256f0-4e7b-4835-a461-833124bdc285",
   "metadata": {},
   "outputs": [
    {
     "data": {
      "text/plain": [
       "{'id': 'WBTCUSDT',\n",
       " 'lowercaseId': 'wbtcusdt',\n",
       " 'symbol': 'WBTC/USDT',\n",
       " 'base': 'WBTC',\n",
       " 'quote': 'USDT',\n",
       " 'settle': None,\n",
       " 'baseId': 'WBTC',\n",
       " 'quoteId': 'USDT',\n",
       " 'settleId': None,\n",
       " 'type': 'spot',\n",
       " 'spot': True,\n",
       " 'margin': False,\n",
       " 'swap': False,\n",
       " 'future': False,\n",
       " 'option': False,\n",
       " 'index': None,\n",
       " 'active': True,\n",
       " 'contract': False,\n",
       " 'linear': None,\n",
       " 'inverse': None,\n",
       " 'subType': None,\n",
       " 'taker': 0.001,\n",
       " 'maker': 0.001,\n",
       " 'contractSize': None,\n",
       " 'expiry': None,\n",
       " 'expiryDatetime': None,\n",
       " 'strike': None,\n",
       " 'optionType': None,\n",
       " 'precision': {'amount': 1e-05,\n",
       "  'price': 0.01,\n",
       "  'cost': None,\n",
       "  'base': 1e-08,\n",
       "  'quote': 1e-08},\n",
       " 'limits': {'leverage': {'min': None, 'max': None},\n",
       "  'amount': {'min': 1e-05, 'max': 9000.0},\n",
       "  'price': {'min': 0.01, 'max': 1000000.0},\n",
       "  'cost': {'min': 5.0, 'max': 9000000.0},\n",
       "  'market': {'min': 0.0, 'max': 1.55399865}},\n",
       " 'created': None,\n",
       " 'info': {'symbol': 'WBTCUSDT',\n",
       "  'status': 'TRADING',\n",
       "  'baseAsset': 'WBTC',\n",
       "  'baseAssetPrecision': '8',\n",
       "  'quoteAsset': 'USDT',\n",
       "  'quotePrecision': '8',\n",
       "  'quoteAssetPrecision': '8',\n",
       "  'baseCommissionPrecision': '8',\n",
       "  'quoteCommissionPrecision': '8',\n",
       "  'orderTypes': ['LIMIT',\n",
       "   'LIMIT_MAKER',\n",
       "   'MARKET',\n",
       "   'STOP_LOSS_LIMIT',\n",
       "   'TAKE_PROFIT_LIMIT'],\n",
       "  'icebergAllowed': True,\n",
       "  'ocoAllowed': True,\n",
       "  'otoAllowed': True,\n",
       "  'quoteOrderQtyMarketAllowed': True,\n",
       "  'allowTrailingStop': True,\n",
       "  'cancelReplaceAllowed': True,\n",
       "  'isSpotTradingAllowed': True,\n",
       "  'isMarginTradingAllowed': False,\n",
       "  'filters': [{'filterType': 'PRICE_FILTER',\n",
       "    'minPrice': '0.01000000',\n",
       "    'maxPrice': '1000000.00000000',\n",
       "    'tickSize': '0.01000000'},\n",
       "   {'filterType': 'LOT_SIZE',\n",
       "    'minQty': '0.00001000',\n",
       "    'maxQty': '9000.00000000',\n",
       "    'stepSize': '0.00001000'},\n",
       "   {'filterType': 'ICEBERG_PARTS', 'limit': '10'},\n",
       "   {'filterType': 'MARKET_LOT_SIZE',\n",
       "    'minQty': '0.00000000',\n",
       "    'maxQty': '1.55399865',\n",
       "    'stepSize': '0.00000000'},\n",
       "   {'filterType': 'TRAILING_DELTA',\n",
       "    'minTrailingAboveDelta': '10',\n",
       "    'maxTrailingAboveDelta': '2000',\n",
       "    'minTrailingBelowDelta': '10',\n",
       "    'maxTrailingBelowDelta': '2000'},\n",
       "   {'filterType': 'PERCENT_PRICE_BY_SIDE',\n",
       "    'bidMultiplierUp': '5',\n",
       "    'bidMultiplierDown': '0.2',\n",
       "    'askMultiplierUp': '5',\n",
       "    'askMultiplierDown': '0.2',\n",
       "    'avgPriceMins': '5'},\n",
       "   {'filterType': 'NOTIONAL',\n",
       "    'minNotional': '5.00000000',\n",
       "    'applyMinToMarket': True,\n",
       "    'maxNotional': '9000000.00000000',\n",
       "    'applyMaxToMarket': False,\n",
       "    'avgPriceMins': '5'},\n",
       "   {'filterType': 'MAX_NUM_ORDERS', 'maxNumOrders': '200'},\n",
       "   {'filterType': 'MAX_NUM_ALGO_ORDERS', 'maxNumAlgoOrders': '5'}],\n",
       "  'permissions': [],\n",
       "  'permissionSets': [['SPOT']],\n",
       "  'defaultSelfTradePreventionMode': 'EXPIRE_MAKER',\n",
       "  'allowedSelfTradePreventionModes': ['NONE',\n",
       "   'EXPIRE_TAKER',\n",
       "   'EXPIRE_MAKER',\n",
       "   'EXPIRE_BOTH']},\n",
       " 'tierBased': False,\n",
       " 'percentage': True,\n",
       " 'feeSide': 'get'}"
      ]
     },
     "execution_count": 10,
     "metadata": {},
     "output_type": "execute_result"
    }
   ],
   "source": [
    "markets[i]"
   ]
  },
  {
   "cell_type": "code",
   "execution_count": 11,
   "id": "3045c7df-e8e0-407f-b891-4ad67cdd6e7f",
   "metadata": {},
   "outputs": [
    {
     "name": "stdout",
     "output_type": "stream",
     "text": [
      "Total balances:\n"
     ]
    }
   ],
   "source": [
    "def get_balance():\n",
    "    try:\n",
    "        # Fetch the balance\n",
    "        balance = exchange.fetch_balance()\n",
    "\n",
    "        not_null_balance = dict()\n",
    "        # Print the balance\n",
    "        print(\"Total balances:\")\n",
    "        for currency, amount in balance['total'].items():\n",
    "            if amount > 0:\n",
    "                # print(f\"{currency}: {amount}\")\n",
    "                not_null_balance[currency] = amount\n",
    "\n",
    "        return not_null_balance\n",
    "    \n",
    "    except ccxt.NetworkError as e:\n",
    "        print(f\"Network error: {str(e)}\")\n",
    "    except ccxt.ExchangeError as e:\n",
    "        print(f\"Exchange error: {str(e)}\")\n",
    "    except Exception as e:\n",
    "        print(f\"An unexpected error occurred: {str(e)}\")\n",
    "\n",
    "balance = get_balance()"
   ]
  },
  {
   "cell_type": "code",
   "execution_count": 12,
   "id": "4ea0b0a6-506e-4db3-94fe-f01cf7a470ac",
   "metadata": {},
   "outputs": [
    {
     "name": "stdout",
     "output_type": "stream",
     "text": [
      "Total balances:\n"
     ]
    },
    {
     "data": {
      "text/plain": [
       "{'USDT': 259932.05924064,\n",
       " 'DOCK': 16156.0,\n",
       " 'WIN': 18446.0,\n",
       " 'TRY': 18466.0,\n",
       " 'ZAR': 18466.0,\n",
       " 'IDRT': 18466.0,\n",
       " 'UAH': 18466.0,\n",
       " 'DAI': 10000.0,\n",
       " 'WBTC': 0.18699,\n",
       " 'BRL': 97.0,\n",
       " 'SHIB': 18446.0,\n",
       " 'POLS': 677.0,\n",
       " 'MDX': 8175.0,\n",
       " 'BOND': 146.0,\n",
       " 'XEC': 18446.0,\n",
       " 'RNDR': 47.0,\n",
       " 'BTTC': 18446.0,\n",
       " 'EPX': 18446.0,\n",
       " 'LUNC': 18446.0,\n",
       " 'PLN': 18466.0,\n",
       " 'RON': 18466.0,\n",
       " 'ARS': 18466.0,\n",
       " 'PEPE': 18446.0,\n",
       " 'BONK': 18446.0,\n",
       " 'JPY': 18466.0,\n",
       " 'MXN': 18466.0,\n",
       " 'CZK': 18466.0}"
      ]
     },
     "execution_count": 12,
     "metadata": {},
     "output_type": "execute_result"
    }
   ],
   "source": [
    "get_balance()"
   ]
  },
  {
   "cell_type": "code",
   "execution_count": 13,
   "id": "b50005a8-b265-4339-b00e-6ffffe78f0bd",
   "metadata": {},
   "outputs": [],
   "source": [
    "def sell_currency_amount(currency, amount):\n",
    "    symbol = f\"{currency}/USDT\"\n",
    "    print (f\"{(symbol, amount, symbol)=}\")\n",
    "    try:\n",
    "        # Check if the trading pair exists\n",
    "        if symbol in exchange.load_markets():\n",
    "            #print(f\"Creating market sell order for {amount} {currency} to USDT\")\n",
    "            order = exchange.create_market_sell_order(symbol, amount)\n",
    "            #print(f\"Order created: {order}\")\n",
    "            return order \n",
    "        else:\n",
    "            print(f\"Trading pair {symbol} not available on Binance.\")\n",
    "    except ccxt.ExchangeError as e:\n",
    "        print(f\"Exchange error for {symbol}: {str(e)}\")\n",
    "    except Exception as e:\n",
    "        print(f\"An unexpected error occurred for {symbol}: {str(e)}\")\n"
   ]
  },
  {
   "cell_type": "code",
   "execution_count": 14,
   "id": "f216d5e5-8039-44f0-9eb6-7cfe3436886f",
   "metadata": {},
   "outputs": [],
   "source": [
    "def buy_currency_amount(currency, amount):\n",
    "    symbol = f\"{currency}/USDT\"\n",
    "    print (f\"{(symbol, amount, symbol)=}\")\n",
    "    try:\n",
    "        # Check if the trading pair exists\n",
    "        if symbol in exchange.load_markets():\n",
    "            # print(f\"Creating market sell order for {amount} {currency} to USDT\")\n",
    "            order = exchange.create_market_buy_order(symbol, amount)\n",
    "            # print(f\"Order created: {order}\")\n",
    "            return order \n",
    "        else:\n",
    "            print(f\"Trading pair {symbol} not available on Binance.\")\n",
    "    except ccxt.ExchangeError as e:\n",
    "        print(f\"Exchange error for {symbol}: {str(e)}\")\n",
    "    except Exception as e:\n",
    "        print(f\"An unexpected error occurred for {symbol}: {str(e)}\")\n"
   ]
  },
  {
   "cell_type": "code",
   "execution_count": 15,
   "id": "14225a0b-18e2-449d-a2c7-233be96749bb",
   "metadata": {},
   "outputs": [
    {
     "name": "stdout",
     "output_type": "stream",
     "text": [
      "Total balances:\n"
     ]
    },
    {
     "data": {
      "text/plain": [
       "{'USDT': 259932.05924064,\n",
       " 'DOCK': 16156.0,\n",
       " 'WIN': 18446.0,\n",
       " 'TRY': 18466.0,\n",
       " 'ZAR': 18466.0,\n",
       " 'IDRT': 18466.0,\n",
       " 'UAH': 18466.0,\n",
       " 'DAI': 10000.0,\n",
       " 'WBTC': 0.18699,\n",
       " 'BRL': 97.0,\n",
       " 'SHIB': 18446.0,\n",
       " 'POLS': 677.0,\n",
       " 'MDX': 8175.0,\n",
       " 'BOND': 146.0,\n",
       " 'XEC': 18446.0,\n",
       " 'RNDR': 47.0,\n",
       " 'BTTC': 18446.0,\n",
       " 'EPX': 18446.0,\n",
       " 'LUNC': 18446.0,\n",
       " 'PLN': 18466.0,\n",
       " 'RON': 18466.0,\n",
       " 'ARS': 18466.0,\n",
       " 'PEPE': 18446.0,\n",
       " 'BONK': 18446.0,\n",
       " 'JPY': 18466.0,\n",
       " 'MXN': 18466.0,\n",
       " 'CZK': 18466.0}"
      ]
     },
     "execution_count": 15,
     "metadata": {},
     "output_type": "execute_result"
    }
   ],
   "source": [
    "get_balance()"
   ]
  },
  {
   "cell_type": "code",
   "execution_count": 16,
   "id": "694fa7d5-9e40-4822-a656-6d6df12ff10f",
   "metadata": {},
   "outputs": [
    {
     "name": "stdout",
     "output_type": "stream",
     "text": [
      "(symbol, amount, symbol)=('BTC/USDT', 1, 'BTC/USDT')\n"
     ]
    }
   ],
   "source": [
    "_ = buy_currency_amount('BTC', 1)"
   ]
  },
  {
   "cell_type": "code",
   "execution_count": 17,
   "id": "76b0a40e-4a23-4872-a4bd-e00d1ecbb182",
   "metadata": {},
   "outputs": [
    {
     "name": "stdout",
     "output_type": "stream",
     "text": [
      "Total balances:\n"
     ]
    },
    {
     "data": {
      "text/plain": [
       "{'BTC': 1.0,\n",
       " 'USDT': 195226.53075264,\n",
       " 'DOCK': 16156.0,\n",
       " 'WIN': 18446.0,\n",
       " 'TRY': 18466.0,\n",
       " 'ZAR': 18466.0,\n",
       " 'IDRT': 18466.0,\n",
       " 'UAH': 18466.0,\n",
       " 'DAI': 10000.0,\n",
       " 'WBTC': 0.18699,\n",
       " 'BRL': 97.0,\n",
       " 'SHIB': 18446.0,\n",
       " 'POLS': 677.0,\n",
       " 'MDX': 8175.0,\n",
       " 'BOND': 146.0,\n",
       " 'XEC': 18446.0,\n",
       " 'RNDR': 47.0,\n",
       " 'BTTC': 18446.0,\n",
       " 'EPX': 18446.0,\n",
       " 'LUNC': 18446.0,\n",
       " 'PLN': 18466.0,\n",
       " 'RON': 18466.0,\n",
       " 'ARS': 18466.0,\n",
       " 'PEPE': 18446.0,\n",
       " 'BONK': 18446.0,\n",
       " 'JPY': 18466.0,\n",
       " 'MXN': 18466.0,\n",
       " 'CZK': 18466.0}"
      ]
     },
     "execution_count": 17,
     "metadata": {},
     "output_type": "execute_result"
    }
   ],
   "source": [
    "get_balance()"
   ]
  },
  {
   "cell_type": "code",
   "execution_count": 18,
   "id": "9cc40dcd-3a0c-41c3-83ce-f833af76027d",
   "metadata": {},
   "outputs": [
    {
     "name": "stdout",
     "output_type": "stream",
     "text": [
      "(symbol, amount, symbol)=('BTC/USDT', 2, 'BTC/USDT')\n",
      "Exchange error for BTC/USDT: binance Account has insufficient balance for requested action.\n"
     ]
    }
   ],
   "source": [
    "_ = sell_currency_amount('BTC', 2)"
   ]
  },
  {
   "cell_type": "code",
   "execution_count": 19,
   "id": "2561a1f1-8354-4bcf-bae4-5e354677bdfb",
   "metadata": {},
   "outputs": [
    {
     "name": "stdout",
     "output_type": "stream",
     "text": [
      "Total balances:\n"
     ]
    },
    {
     "data": {
      "text/plain": [
       "{'BTC': 1.0,\n",
       " 'USDT': 195226.53075264,\n",
       " 'DOCK': 16156.0,\n",
       " 'WIN': 18446.0,\n",
       " 'TRY': 18466.0,\n",
       " 'ZAR': 18466.0,\n",
       " 'IDRT': 18466.0,\n",
       " 'UAH': 18466.0,\n",
       " 'DAI': 10000.0,\n",
       " 'WBTC': 0.18699,\n",
       " 'BRL': 97.0,\n",
       " 'SHIB': 18446.0,\n",
       " 'POLS': 677.0,\n",
       " 'MDX': 8175.0,\n",
       " 'BOND': 146.0,\n",
       " 'XEC': 18446.0,\n",
       " 'RNDR': 47.0,\n",
       " 'BTTC': 18446.0,\n",
       " 'EPX': 18446.0,\n",
       " 'LUNC': 18446.0,\n",
       " 'PLN': 18466.0,\n",
       " 'RON': 18466.0,\n",
       " 'ARS': 18466.0,\n",
       " 'PEPE': 18446.0,\n",
       " 'BONK': 18446.0,\n",
       " 'JPY': 18466.0,\n",
       " 'MXN': 18466.0,\n",
       " 'CZK': 18466.0}"
      ]
     },
     "execution_count": 19,
     "metadata": {},
     "output_type": "execute_result"
    }
   ],
   "source": [
    "get_balance()"
   ]
  },
  {
   "cell_type": "code",
   "execution_count": 20,
   "id": "127ff75a-4b53-4450-9499-e215bfd07106",
   "metadata": {},
   "outputs": [],
   "source": [
    "# task 1 evaluate portfolio\n",
    "# task 2 - fix portfolio - > convert everythin to USDT (close to fiat) (BUSD )\n",
    "# task 3 - prepare bot -> ticker (i.e. BTCUSDT ETHUSDT , BTCBUSD, USDKZT), strategy, amount \n",
    "# task 4 - calculate pnl \n",
    "# task 5 - repeat 3,4 \n",
    "# task 6 - select only profitable ticker, strategy pairs \n"
   ]
  },
  {
   "cell_type": "code",
   "execution_count": 21,
   "id": "bfcf9b35-78f3-4e20-aba3-341d9e11de52",
   "metadata": {},
   "outputs": [
    {
     "name": "stdout",
     "output_type": "stream",
     "text": [
      "Current balances:\n",
      "BTC: 1.0\n",
      "DOCK: 16156.0\n",
      "WIN: 18446.0\n",
      "TRY: 18466.0\n",
      "ZAR: 18466.0\n",
      "IDRT: 18466.0\n",
      "UAH: 18466.0\n",
      "DAI: 10000.0\n",
      "WBTC: 0.18699\n",
      "BRL: 97.0\n",
      "SHIB: 18446.0\n",
      "POLS: 677.0\n",
      "MDX: 8175.0\n",
      "BOND: 146.0\n",
      "XEC: 18446.0\n",
      "RNDR: 47.0\n",
      "BTTC: 18446.0\n",
      "EPX: 18446.0\n",
      "LUNC: 18446.0\n",
      "PLN: 18466.0\n",
      "RON: 18466.0\n",
      "ARS: 18466.0\n",
      "PEPE: 18446.0\n",
      "BONK: 18446.0\n",
      "JPY: 18466.0\n",
      "MXN: 18466.0\n",
      "CZK: 18466.0\n",
      "Creating market sell order for 1.0 BTC to USDT\n",
      "Order created: {'info': {'symbol': 'BTCUSDT', 'orderId': '7970115', 'orderListId': '-1', 'clientOrderId': 'x-R4BD3S82bb71443bc15b18a225fa03', 'transactTime': '1722495449093', 'price': '0.00000000', 'origQty': '1.00000000', 'executedQty': '1.00000000', 'cummulativeQuoteQty': '52284.03356070', 'status': 'FILLED', 'timeInForce': 'GTC', 'type': 'MARKET', 'side': 'SELL', 'workingTime': '1722495449093', 'fills': [{'price': '64302.27000000', 'qty': '0.00553000', 'commission': '0.00000000', 'commissionAsset': 'USDT', 'tradeId': '1825136'}, {'price': '64300.00000000', 'qty': '0.00591000', 'commission': '0.00000000', 'commissionAsset': 'USDT', 'tradeId': '1825137'}, {'price': '64275.98000000', 'qty': '0.00631000', 'commission': '0.00000000', 'commissionAsset': 'USDT', 'tradeId': '1825138'}, {'price': '64275.77000000', 'qty': '0.00732000', 'commission': '0.00000000', 'commissionAsset': 'USDT', 'tradeId': '1825139'}, {'price': '64275.76000000', 'qty': '0.00561000', 'commission': '0.00000000', 'commissionAsset': 'USDT', 'tradeId': '1825140'}, {'price': '64269.61000000', 'qty': '0.00701000', 'commission': '0.00000000', 'commissionAsset': 'USDT', 'tradeId': '1825141'}, {'price': '64268.07000000', 'qty': '0.00467000', 'commission': '0.00000000', 'commissionAsset': 'USDT', 'tradeId': '1825142'}, {'price': '64265.17000000', 'qty': '0.00428000', 'commission': '0.00000000', 'commissionAsset': 'USDT', 'tradeId': '1825143'}, {'price': '64260.95000000', 'qty': '0.00740000', 'commission': '0.00000000', 'commissionAsset': 'USDT', 'tradeId': '1825144'}, {'price': '64259.60000000', 'qty': '0.00100000', 'commission': '0.00000000', 'commissionAsset': 'USDT', 'tradeId': '1825145'}, {'price': '64258.90000000', 'qty': '0.00569000', 'commission': '0.00000000', 'commissionAsset': 'USDT', 'tradeId': '1825146'}, {'price': '64181.84000000', 'qty': '0.00286000', 'commission': '0.00000000', 'commissionAsset': 'USDT', 'tradeId': '1825147'}, {'price': '63989.87000000', 'qty': '0.00286000', 'commission': '0.00000000', 'commissionAsset': 'USDT', 'tradeId': '1825148'}, {'price': '63798.47000000', 'qty': '0.00286000', 'commission': '0.00000000', 'commissionAsset': 'USDT', 'tradeId': '1825149'}, {'price': '63607.65000000', 'qty': '0.00286000', 'commission': '0.00000000', 'commissionAsset': 'USDT', 'tradeId': '1825150'}, {'price': '63417.40000000', 'qty': '0.00286000', 'commission': '0.00000000', 'commissionAsset': 'USDT', 'tradeId': '1825151'}, {'price': '63227.72000000', 'qty': '0.00286000', 'commission': '0.00000000', 'commissionAsset': 'USDT', 'tradeId': '1825152'}, {'price': '63038.60000000', 'qty': '0.00286000', 'commission': '0.00000000', 'commissionAsset': 'USDT', 'tradeId': '1825153'}, {'price': '62850.05000000', 'qty': '0.00286000', 'commission': '0.00000000', 'commissionAsset': 'USDT', 'tradeId': '1825154'}, {'price': '62662.06000000', 'qty': '0.00286000', 'commission': '0.00000000', 'commissionAsset': 'USDT', 'tradeId': '1825155'}, {'price': '62474.64000000', 'qty': '0.00286000', 'commission': '0.00000000', 'commissionAsset': 'USDT', 'tradeId': '1825156'}, {'price': '62287.78000000', 'qty': '0.00286000', 'commission': '0.00000000', 'commissionAsset': 'USDT', 'tradeId': '1825157'}, {'price': '62101.48000000', 'qty': '0.00286000', 'commission': '0.00000000', 'commissionAsset': 'USDT', 'tradeId': '1825158'}, {'price': '61915.73000000', 'qty': '0.00286000', 'commission': '0.00000000', 'commissionAsset': 'USDT', 'tradeId': '1825159'}, {'price': '61730.54000000', 'qty': '0.00286000', 'commission': '0.00000000', 'commissionAsset': 'USDT', 'tradeId': '1825160'}, {'price': '61545.90000000', 'qty': '0.00286000', 'commission': '0.00000000', 'commissionAsset': 'USDT', 'tradeId': '1825161'}, {'price': '61361.81000000', 'qty': '0.00286000', 'commission': '0.00000000', 'commissionAsset': 'USDT', 'tradeId': '1825162'}, {'price': '61178.28000000', 'qty': '0.00286000', 'commission': '0.00000000', 'commissionAsset': 'USDT', 'tradeId': '1825163'}, {'price': '60995.29000000', 'qty': '0.00286000', 'commission': '0.00000000', 'commissionAsset': 'USDT', 'tradeId': '1825164'}, {'price': '60812.85000000', 'qty': '0.00286000', 'commission': '0.00000000', 'commissionAsset': 'USDT', 'tradeId': '1825165'}, {'price': '60630.96000000', 'qty': '0.00286000', 'commission': '0.00000000', 'commissionAsset': 'USDT', 'tradeId': '1825166'}, {'price': '60449.61000000', 'qty': '0.00286000', 'commission': '0.00000000', 'commissionAsset': 'USDT', 'tradeId': '1825167'}, {'price': '60268.80000000', 'qty': '0.00286000', 'commission': '0.00000000', 'commissionAsset': 'USDT', 'tradeId': '1825168'}, {'price': '60088.53000000', 'qty': '0.00286000', 'commission': '0.00000000', 'commissionAsset': 'USDT', 'tradeId': '1825169'}, {'price': '59908.80000000', 'qty': '0.00286000', 'commission': '0.00000000', 'commissionAsset': 'USDT', 'tradeId': '1825170'}, {'price': '59729.61000000', 'qty': '0.00286000', 'commission': '0.00000000', 'commissionAsset': 'USDT', 'tradeId': '1825171'}, {'price': '51008.00000000', 'qty': '0.35578000', 'commission': '0.00000000', 'commissionAsset': 'USDT', 'tradeId': '1825172'}, {'price': '50486.00000000', 'qty': '0.15218000', 'commission': '0.00000000', 'commissionAsset': 'USDT', 'tradeId': '1825173'}, {'price': '50389.00000000', 'qty': '0.18681000', 'commission': '0.00000000', 'commissionAsset': 'USDT', 'tradeId': '1825174'}, {'price': '50359.00000000', 'qty': '0.12145000', 'commission': '0.00000000', 'commissionAsset': 'USDT', 'tradeId': '1825175'}, {'price': '50296.00000000', 'qty': '0.05155000', 'commission': '0.00000000', 'commissionAsset': 'USDT', 'tradeId': '1825176'}], 'selfTradePreventionMode': 'EXPIRE_MAKER'}, 'id': '7970115', 'clientOrderId': 'x-R4BD3S82bb71443bc15b18a225fa03', 'timestamp': 1722495449093, 'datetime': '2024-08-01T06:57:29.093Z', 'lastTradeTimestamp': 1722495449093, 'lastUpdateTimestamp': 1722495449093, 'symbol': 'BTC/USDT', 'type': 'market', 'timeInForce': 'GTC', 'postOnly': False, 'reduceOnly': None, 'side': 'sell', 'price': 52284.0335607, 'triggerPrice': None, 'amount': 1.0, 'cost': 52284.0335607, 'average': 52284.0335607, 'filled': 1.0, 'remaining': 0.0, 'status': 'closed', 'fee': None, 'trades': [{'info': {'price': '64302.27000000', 'qty': '0.00553000', 'commission': '0.00000000', 'commissionAsset': 'USDT', 'tradeId': '1825136'}, 'timestamp': None, 'datetime': None, 'symbol': 'BTC/USDT', 'id': '1825136', 'order': None, 'type': None, 'side': None, 'takerOrMaker': None, 'price': 64302.27, 'amount': 0.00553, 'cost': 355.5915531, 'fee': {'cost': 0.0, 'currency': 'USDT'}, 'fees': [{'cost': 0.0, 'currency': 'USDT'}]}, {'info': {'price': '64300.00000000', 'qty': '0.00591000', 'commission': '0.00000000', 'commissionAsset': 'USDT', 'tradeId': '1825137'}, 'timestamp': None, 'datetime': None, 'symbol': 'BTC/USDT', 'id': '1825137', 'order': None, 'type': None, 'side': None, 'takerOrMaker': None, 'price': 64300.0, 'amount': 0.00591, 'cost': 380.013, 'fee': {'cost': 0.0, 'currency': 'USDT'}, 'fees': [{'cost': 0.0, 'currency': 'USDT'}]}, {'info': {'price': '64275.98000000', 'qty': '0.00631000', 'commission': '0.00000000', 'commissionAsset': 'USDT', 'tradeId': '1825138'}, 'timestamp': None, 'datetime': None, 'symbol': 'BTC/USDT', 'id': '1825138', 'order': None, 'type': None, 'side': None, 'takerOrMaker': None, 'price': 64275.98, 'amount': 0.00631, 'cost': 405.5814338, 'fee': {'cost': 0.0, 'currency': 'USDT'}, 'fees': [{'cost': 0.0, 'currency': 'USDT'}]}, {'info': {'price': '64275.77000000', 'qty': '0.00732000', 'commission': '0.00000000', 'commissionAsset': 'USDT', 'tradeId': '1825139'}, 'timestamp': None, 'datetime': None, 'symbol': 'BTC/USDT', 'id': '1825139', 'order': None, 'type': None, 'side': None, 'takerOrMaker': None, 'price': 64275.77, 'amount': 0.00732, 'cost': 470.4986364, 'fee': {'cost': 0.0, 'currency': 'USDT'}, 'fees': [{'cost': 0.0, 'currency': 'USDT'}]}, {'info': {'price': '64275.76000000', 'qty': '0.00561000', 'commission': '0.00000000', 'commissionAsset': 'USDT', 'tradeId': '1825140'}, 'timestamp': None, 'datetime': None, 'symbol': 'BTC/USDT', 'id': '1825140', 'order': None, 'type': None, 'side': None, 'takerOrMaker': None, 'price': 64275.76, 'amount': 0.00561, 'cost': 360.5870136, 'fee': {'cost': 0.0, 'currency': 'USDT'}, 'fees': [{'cost': 0.0, 'currency': 'USDT'}]}, {'info': {'price': '64269.61000000', 'qty': '0.00701000', 'commission': '0.00000000', 'commissionAsset': 'USDT', 'tradeId': '1825141'}, 'timestamp': None, 'datetime': None, 'symbol': 'BTC/USDT', 'id': '1825141', 'order': None, 'type': None, 'side': None, 'takerOrMaker': None, 'price': 64269.61, 'amount': 0.00701, 'cost': 450.5299661, 'fee': {'cost': 0.0, 'currency': 'USDT'}, 'fees': [{'cost': 0.0, 'currency': 'USDT'}]}, {'info': {'price': '64268.07000000', 'qty': '0.00467000', 'commission': '0.00000000', 'commissionAsset': 'USDT', 'tradeId': '1825142'}, 'timestamp': None, 'datetime': None, 'symbol': 'BTC/USDT', 'id': '1825142', 'order': None, 'type': None, 'side': None, 'takerOrMaker': None, 'price': 64268.07, 'amount': 0.00467, 'cost': 300.1318869, 'fee': {'cost': 0.0, 'currency': 'USDT'}, 'fees': [{'cost': 0.0, 'currency': 'USDT'}]}, {'info': {'price': '64265.17000000', 'qty': '0.00428000', 'commission': '0.00000000', 'commissionAsset': 'USDT', 'tradeId': '1825143'}, 'timestamp': None, 'datetime': None, 'symbol': 'BTC/USDT', 'id': '1825143', 'order': None, 'type': None, 'side': None, 'takerOrMaker': None, 'price': 64265.17, 'amount': 0.00428, 'cost': 275.0549276, 'fee': {'cost': 0.0, 'currency': 'USDT'}, 'fees': [{'cost': 0.0, 'currency': 'USDT'}]}, {'info': {'price': '64260.95000000', 'qty': '0.00740000', 'commission': '0.00000000', 'commissionAsset': 'USDT', 'tradeId': '1825144'}, 'timestamp': None, 'datetime': None, 'symbol': 'BTC/USDT', 'id': '1825144', 'order': None, 'type': None, 'side': None, 'takerOrMaker': None, 'price': 64260.95, 'amount': 0.0074, 'cost': 475.53103, 'fee': {'cost': 0.0, 'currency': 'USDT'}, 'fees': [{'cost': 0.0, 'currency': 'USDT'}]}, {'info': {'price': '64259.60000000', 'qty': '0.00100000', 'commission': '0.00000000', 'commissionAsset': 'USDT', 'tradeId': '1825145'}, 'timestamp': None, 'datetime': None, 'symbol': 'BTC/USDT', 'id': '1825145', 'order': None, 'type': None, 'side': None, 'takerOrMaker': None, 'price': 64259.6, 'amount': 0.001, 'cost': 64.2596, 'fee': {'cost': 0.0, 'currency': 'USDT'}, 'fees': [{'cost': 0.0, 'currency': 'USDT'}]}, {'info': {'price': '64258.90000000', 'qty': '0.00569000', 'commission': '0.00000000', 'commissionAsset': 'USDT', 'tradeId': '1825146'}, 'timestamp': None, 'datetime': None, 'symbol': 'BTC/USDT', 'id': '1825146', 'order': None, 'type': None, 'side': None, 'takerOrMaker': None, 'price': 64258.9, 'amount': 0.00569, 'cost': 365.633141, 'fee': {'cost': 0.0, 'currency': 'USDT'}, 'fees': [{'cost': 0.0, 'currency': 'USDT'}]}, {'info': {'price': '64181.84000000', 'qty': '0.00286000', 'commission': '0.00000000', 'commissionAsset': 'USDT', 'tradeId': '1825147'}, 'timestamp': None, 'datetime': None, 'symbol': 'BTC/USDT', 'id': '1825147', 'order': None, 'type': None, 'side': None, 'takerOrMaker': None, 'price': 64181.84, 'amount': 0.00286, 'cost': 183.5600624, 'fee': {'cost': 0.0, 'currency': 'USDT'}, 'fees': [{'cost': 0.0, 'currency': 'USDT'}]}, {'info': {'price': '63989.87000000', 'qty': '0.00286000', 'commission': '0.00000000', 'commissionAsset': 'USDT', 'tradeId': '1825148'}, 'timestamp': None, 'datetime': None, 'symbol': 'BTC/USDT', 'id': '1825148', 'order': None, 'type': None, 'side': None, 'takerOrMaker': None, 'price': 63989.87, 'amount': 0.00286, 'cost': 183.0110282, 'fee': {'cost': 0.0, 'currency': 'USDT'}, 'fees': [{'cost': 0.0, 'currency': 'USDT'}]}, {'info': {'price': '63798.47000000', 'qty': '0.00286000', 'commission': '0.00000000', 'commissionAsset': 'USDT', 'tradeId': '1825149'}, 'timestamp': None, 'datetime': None, 'symbol': 'BTC/USDT', 'id': '1825149', 'order': None, 'type': None, 'side': None, 'takerOrMaker': None, 'price': 63798.47, 'amount': 0.00286, 'cost': 182.4636242, 'fee': {'cost': 0.0, 'currency': 'USDT'}, 'fees': [{'cost': 0.0, 'currency': 'USDT'}]}, {'info': {'price': '63607.65000000', 'qty': '0.00286000', 'commission': '0.00000000', 'commissionAsset': 'USDT', 'tradeId': '1825150'}, 'timestamp': None, 'datetime': None, 'symbol': 'BTC/USDT', 'id': '1825150', 'order': None, 'type': None, 'side': None, 'takerOrMaker': None, 'price': 63607.65, 'amount': 0.00286, 'cost': 181.917879, 'fee': {'cost': 0.0, 'currency': 'USDT'}, 'fees': [{'cost': 0.0, 'currency': 'USDT'}]}, {'info': {'price': '63417.40000000', 'qty': '0.00286000', 'commission': '0.00000000', 'commissionAsset': 'USDT', 'tradeId': '1825151'}, 'timestamp': None, 'datetime': None, 'symbol': 'BTC/USDT', 'id': '1825151', 'order': None, 'type': None, 'side': None, 'takerOrMaker': None, 'price': 63417.4, 'amount': 0.00286, 'cost': 181.373764, 'fee': {'cost': 0.0, 'currency': 'USDT'}, 'fees': [{'cost': 0.0, 'currency': 'USDT'}]}, {'info': {'price': '63227.72000000', 'qty': '0.00286000', 'commission': '0.00000000', 'commissionAsset': 'USDT', 'tradeId': '1825152'}, 'timestamp': None, 'datetime': None, 'symbol': 'BTC/USDT', 'id': '1825152', 'order': None, 'type': None, 'side': None, 'takerOrMaker': None, 'price': 63227.72, 'amount': 0.00286, 'cost': 180.8312792, 'fee': {'cost': 0.0, 'currency': 'USDT'}, 'fees': [{'cost': 0.0, 'currency': 'USDT'}]}, {'info': {'price': '63038.60000000', 'qty': '0.00286000', 'commission': '0.00000000', 'commissionAsset': 'USDT', 'tradeId': '1825153'}, 'timestamp': None, 'datetime': None, 'symbol': 'BTC/USDT', 'id': '1825153', 'order': None, 'type': None, 'side': None, 'takerOrMaker': None, 'price': 63038.6, 'amount': 0.00286, 'cost': 180.290396, 'fee': {'cost': 0.0, 'currency': 'USDT'}, 'fees': [{'cost': 0.0, 'currency': 'USDT'}]}, {'info': {'price': '62850.05000000', 'qty': '0.00286000', 'commission': '0.00000000', 'commissionAsset': 'USDT', 'tradeId': '1825154'}, 'timestamp': None, 'datetime': None, 'symbol': 'BTC/USDT', 'id': '1825154', 'order': None, 'type': None, 'side': None, 'takerOrMaker': None, 'price': 62850.05, 'amount': 0.00286, 'cost': 179.751143, 'fee': {'cost': 0.0, 'currency': 'USDT'}, 'fees': [{'cost': 0.0, 'currency': 'USDT'}]}, {'info': {'price': '62662.06000000', 'qty': '0.00286000', 'commission': '0.00000000', 'commissionAsset': 'USDT', 'tradeId': '1825155'}, 'timestamp': None, 'datetime': None, 'symbol': 'BTC/USDT', 'id': '1825155', 'order': None, 'type': None, 'side': None, 'takerOrMaker': None, 'price': 62662.06, 'amount': 0.00286, 'cost': 179.2134916, 'fee': {'cost': 0.0, 'currency': 'USDT'}, 'fees': [{'cost': 0.0, 'currency': 'USDT'}]}, {'info': {'price': '62474.64000000', 'qty': '0.00286000', 'commission': '0.00000000', 'commissionAsset': 'USDT', 'tradeId': '1825156'}, 'timestamp': None, 'datetime': None, 'symbol': 'BTC/USDT', 'id': '1825156', 'order': None, 'type': None, 'side': None, 'takerOrMaker': None, 'price': 62474.64, 'amount': 0.00286, 'cost': 178.6774704, 'fee': {'cost': 0.0, 'currency': 'USDT'}, 'fees': [{'cost': 0.0, 'currency': 'USDT'}]}, {'info': {'price': '62287.78000000', 'qty': '0.00286000', 'commission': '0.00000000', 'commissionAsset': 'USDT', 'tradeId': '1825157'}, 'timestamp': None, 'datetime': None, 'symbol': 'BTC/USDT', 'id': '1825157', 'order': None, 'type': None, 'side': None, 'takerOrMaker': None, 'price': 62287.78, 'amount': 0.00286, 'cost': 178.1430508, 'fee': {'cost': 0.0, 'currency': 'USDT'}, 'fees': [{'cost': 0.0, 'currency': 'USDT'}]}, {'info': {'price': '62101.48000000', 'qty': '0.00286000', 'commission': '0.00000000', 'commissionAsset': 'USDT', 'tradeId': '1825158'}, 'timestamp': None, 'datetime': None, 'symbol': 'BTC/USDT', 'id': '1825158', 'order': None, 'type': None, 'side': None, 'takerOrMaker': None, 'price': 62101.48, 'amount': 0.00286, 'cost': 177.6102328, 'fee': {'cost': 0.0, 'currency': 'USDT'}, 'fees': [{'cost': 0.0, 'currency': 'USDT'}]}, {'info': {'price': '61915.73000000', 'qty': '0.00286000', 'commission': '0.00000000', 'commissionAsset': 'USDT', 'tradeId': '1825159'}, 'timestamp': None, 'datetime': None, 'symbol': 'BTC/USDT', 'id': '1825159', 'order': None, 'type': None, 'side': None, 'takerOrMaker': None, 'price': 61915.73, 'amount': 0.00286, 'cost': 177.0789878, 'fee': {'cost': 0.0, 'currency': 'USDT'}, 'fees': [{'cost': 0.0, 'currency': 'USDT'}]}, {'info': {'price': '61730.54000000', 'qty': '0.00286000', 'commission': '0.00000000', 'commissionAsset': 'USDT', 'tradeId': '1825160'}, 'timestamp': None, 'datetime': None, 'symbol': 'BTC/USDT', 'id': '1825160', 'order': None, 'type': None, 'side': None, 'takerOrMaker': None, 'price': 61730.54, 'amount': 0.00286, 'cost': 176.5493444, 'fee': {'cost': 0.0, 'currency': 'USDT'}, 'fees': [{'cost': 0.0, 'currency': 'USDT'}]}, {'info': {'price': '61545.90000000', 'qty': '0.00286000', 'commission': '0.00000000', 'commissionAsset': 'USDT', 'tradeId': '1825161'}, 'timestamp': None, 'datetime': None, 'symbol': 'BTC/USDT', 'id': '1825161', 'order': None, 'type': None, 'side': None, 'takerOrMaker': None, 'price': 61545.9, 'amount': 0.00286, 'cost': 176.021274, 'fee': {'cost': 0.0, 'currency': 'USDT'}, 'fees': [{'cost': 0.0, 'currency': 'USDT'}]}, {'info': {'price': '61361.81000000', 'qty': '0.00286000', 'commission': '0.00000000', 'commissionAsset': 'USDT', 'tradeId': '1825162'}, 'timestamp': None, 'datetime': None, 'symbol': 'BTC/USDT', 'id': '1825162', 'order': None, 'type': None, 'side': None, 'takerOrMaker': None, 'price': 61361.81, 'amount': 0.00286, 'cost': 175.4947766, 'fee': {'cost': 0.0, 'currency': 'USDT'}, 'fees': [{'cost': 0.0, 'currency': 'USDT'}]}, {'info': {'price': '61178.28000000', 'qty': '0.00286000', 'commission': '0.00000000', 'commissionAsset': 'USDT', 'tradeId': '1825163'}, 'timestamp': None, 'datetime': None, 'symbol': 'BTC/USDT', 'id': '1825163', 'order': None, 'type': None, 'side': None, 'takerOrMaker': None, 'price': 61178.28, 'amount': 0.00286, 'cost': 174.9698808, 'fee': {'cost': 0.0, 'currency': 'USDT'}, 'fees': [{'cost': 0.0, 'currency': 'USDT'}]}, {'info': {'price': '60995.29000000', 'qty': '0.00286000', 'commission': '0.00000000', 'commissionAsset': 'USDT', 'tradeId': '1825164'}, 'timestamp': None, 'datetime': None, 'symbol': 'BTC/USDT', 'id': '1825164', 'order': None, 'type': None, 'side': None, 'takerOrMaker': None, 'price': 60995.29, 'amount': 0.00286, 'cost': 174.4465294, 'fee': {'cost': 0.0, 'currency': 'USDT'}, 'fees': [{'cost': 0.0, 'currency': 'USDT'}]}, {'info': {'price': '60812.85000000', 'qty': '0.00286000', 'commission': '0.00000000', 'commissionAsset': 'USDT', 'tradeId': '1825165'}, 'timestamp': None, 'datetime': None, 'symbol': 'BTC/USDT', 'id': '1825165', 'order': None, 'type': None, 'side': None, 'takerOrMaker': None, 'price': 60812.85, 'amount': 0.00286, 'cost': 173.924751, 'fee': {'cost': 0.0, 'currency': 'USDT'}, 'fees': [{'cost': 0.0, 'currency': 'USDT'}]}, {'info': {'price': '60630.96000000', 'qty': '0.00286000', 'commission': '0.00000000', 'commissionAsset': 'USDT', 'tradeId': '1825166'}, 'timestamp': None, 'datetime': None, 'symbol': 'BTC/USDT', 'id': '1825166', 'order': None, 'type': None, 'side': None, 'takerOrMaker': None, 'price': 60630.96, 'amount': 0.00286, 'cost': 173.4045456, 'fee': {'cost': 0.0, 'currency': 'USDT'}, 'fees': [{'cost': 0.0, 'currency': 'USDT'}]}, {'info': {'price': '60449.61000000', 'qty': '0.00286000', 'commission': '0.00000000', 'commissionAsset': 'USDT', 'tradeId': '1825167'}, 'timestamp': None, 'datetime': None, 'symbol': 'BTC/USDT', 'id': '1825167', 'order': None, 'type': None, 'side': None, 'takerOrMaker': None, 'price': 60449.61, 'amount': 0.00286, 'cost': 172.8858846, 'fee': {'cost': 0.0, 'currency': 'USDT'}, 'fees': [{'cost': 0.0, 'currency': 'USDT'}]}, {'info': {'price': '60268.80000000', 'qty': '0.00286000', 'commission': '0.00000000', 'commissionAsset': 'USDT', 'tradeId': '1825168'}, 'timestamp': None, 'datetime': None, 'symbol': 'BTC/USDT', 'id': '1825168', 'order': None, 'type': None, 'side': None, 'takerOrMaker': None, 'price': 60268.8, 'amount': 0.00286, 'cost': 172.368768, 'fee': {'cost': 0.0, 'currency': 'USDT'}, 'fees': [{'cost': 0.0, 'currency': 'USDT'}]}, {'info': {'price': '60088.53000000', 'qty': '0.00286000', 'commission': '0.00000000', 'commissionAsset': 'USDT', 'tradeId': '1825169'}, 'timestamp': None, 'datetime': None, 'symbol': 'BTC/USDT', 'id': '1825169', 'order': None, 'type': None, 'side': None, 'takerOrMaker': None, 'price': 60088.53, 'amount': 0.00286, 'cost': 171.8531958, 'fee': {'cost': 0.0, 'currency': 'USDT'}, 'fees': [{'cost': 0.0, 'currency': 'USDT'}]}, {'info': {'price': '59908.80000000', 'qty': '0.00286000', 'commission': '0.00000000', 'commissionAsset': 'USDT', 'tradeId': '1825170'}, 'timestamp': None, 'datetime': None, 'symbol': 'BTC/USDT', 'id': '1825170', 'order': None, 'type': None, 'side': None, 'takerOrMaker': None, 'price': 59908.8, 'amount': 0.00286, 'cost': 171.339168, 'fee': {'cost': 0.0, 'currency': 'USDT'}, 'fees': [{'cost': 0.0, 'currency': 'USDT'}]}, {'info': {'price': '59729.61000000', 'qty': '0.00286000', 'commission': '0.00000000', 'commissionAsset': 'USDT', 'tradeId': '1825171'}, 'timestamp': None, 'datetime': None, 'symbol': 'BTC/USDT', 'id': '1825171', 'order': None, 'type': None, 'side': None, 'takerOrMaker': None, 'price': 59729.61, 'amount': 0.00286, 'cost': 170.8266846, 'fee': {'cost': 0.0, 'currency': 'USDT'}, 'fees': [{'cost': 0.0, 'currency': 'USDT'}]}, {'info': {'price': '51008.00000000', 'qty': '0.35578000', 'commission': '0.00000000', 'commissionAsset': 'USDT', 'tradeId': '1825172'}, 'timestamp': None, 'datetime': None, 'symbol': 'BTC/USDT', 'id': '1825172', 'order': None, 'type': None, 'side': None, 'takerOrMaker': None, 'price': 51008.0, 'amount': 0.35578, 'cost': 18147.62624, 'fee': {'cost': 0.0, 'currency': 'USDT'}, 'fees': [{'cost': 0.0, 'currency': 'USDT'}]}, {'info': {'price': '50486.00000000', 'qty': '0.15218000', 'commission': '0.00000000', 'commissionAsset': 'USDT', 'tradeId': '1825173'}, 'timestamp': None, 'datetime': None, 'symbol': 'BTC/USDT', 'id': '1825173', 'order': None, 'type': None, 'side': None, 'takerOrMaker': None, 'price': 50486.0, 'amount': 0.15218, 'cost': 7682.95948, 'fee': {'cost': 0.0, 'currency': 'USDT'}, 'fees': [{'cost': 0.0, 'currency': 'USDT'}]}, {'info': {'price': '50389.00000000', 'qty': '0.18681000', 'commission': '0.00000000', 'commissionAsset': 'USDT', 'tradeId': '1825174'}, 'timestamp': None, 'datetime': None, 'symbol': 'BTC/USDT', 'id': '1825174', 'order': None, 'type': None, 'side': None, 'takerOrMaker': None, 'price': 50389.0, 'amount': 0.18681, 'cost': 9413.16909, 'fee': {'cost': 0.0, 'currency': 'USDT'}, 'fees': [{'cost': 0.0, 'currency': 'USDT'}]}, {'info': {'price': '50359.00000000', 'qty': '0.12145000', 'commission': '0.00000000', 'commissionAsset': 'USDT', 'tradeId': '1825175'}, 'timestamp': None, 'datetime': None, 'symbol': 'BTC/USDT', 'id': '1825175', 'order': None, 'type': None, 'side': None, 'takerOrMaker': None, 'price': 50359.0, 'amount': 0.12145, 'cost': 6116.10055, 'fee': {'cost': 0.0, 'currency': 'USDT'}, 'fees': [{'cost': 0.0, 'currency': 'USDT'}]}, {'info': {'price': '50296.00000000', 'qty': '0.05155000', 'commission': '0.00000000', 'commissionAsset': 'USDT', 'tradeId': '1825176'}, 'timestamp': None, 'datetime': None, 'symbol': 'BTC/USDT', 'id': '1825176', 'order': None, 'type': None, 'side': None, 'takerOrMaker': None, 'price': 50296.0, 'amount': 0.05155, 'cost': 2592.7588, 'fee': {'cost': 0.0, 'currency': 'USDT'}, 'fees': [{'cost': 0.0, 'currency': 'USDT'}]}], 'fees': [], 'stopPrice': None, 'takeProfitPrice': None, 'stopLossPrice': None}\n",
      "Creating market sell order for 16156.0 DOCK to USDT\n",
      "Order created: {'info': {'symbol': 'DOCKUSDT', 'orderId': '209317', 'orderListId': '-1', 'clientOrderId': 'x-R4BD3S82334a5850b4806b0748514e', 'transactTime': '1722495449477', 'price': '0.00000000', 'origQty': '16156.00000000', 'executedQty': '0.00000000', 'cummulativeQuoteQty': '0.00000000', 'status': 'EXPIRED', 'timeInForce': 'GTC', 'type': 'MARKET', 'side': 'SELL', 'workingTime': '1722495449477', 'fills': [], 'selfTradePreventionMode': 'EXPIRE_MAKER'}, 'id': '209317', 'clientOrderId': 'x-R4BD3S82334a5850b4806b0748514e', 'timestamp': 1722495449477, 'datetime': '2024-08-01T06:57:29.477Z', 'lastTradeTimestamp': None, 'lastUpdateTimestamp': 1722495449477, 'symbol': 'DOCK/USDT', 'type': 'market', 'timeInForce': 'GTC', 'postOnly': False, 'reduceOnly': None, 'side': 'sell', 'price': None, 'triggerPrice': None, 'amount': 16156.0, 'cost': 0.0, 'average': None, 'filled': 0.0, 'remaining': 16156.0, 'status': 'expired', 'fee': None, 'trades': [], 'fees': [], 'stopPrice': None, 'takeProfitPrice': None, 'stopLossPrice': None}\n",
      "Creating market sell order for 18446.0 WIN to USDT\n",
      "Exchange error for WIN/USDT: binance {\"code\":-1013,\"msg\":\"Filter failure: NOTIONAL\"}\n",
      "Trading pair TRY/USDT not available on Binance.\n",
      "Trading pair ZAR/USDT not available on Binance.\n",
      "Trading pair IDRT/USDT not available on Binance.\n",
      "Trading pair UAH/USDT not available on Binance.\n",
      "Trading pair DAI/USDT not available on Binance.\n",
      "Creating market sell order for 0.18699 WBTC to USDT\n",
      "Order created: {'info': {'symbol': 'WBTCUSDT', 'orderId': '1159108', 'orderListId': '-1', 'clientOrderId': 'x-R4BD3S82cc4b8c519e5cf0fb6a3008', 'transactTime': '1722495450958', 'price': '0.00000000', 'origQty': '0.18699000', 'executedQty': '0.07212000', 'cummulativeQuoteQty': '4628.87841290', 'status': 'EXPIRED', 'timeInForce': 'GTC', 'type': 'MARKET', 'side': 'SELL', 'workingTime': '1722495450958', 'fills': [{'price': '64274.97000000', 'qty': '0.00475000', 'commission': '0.00000000', 'commissionAsset': 'USDT', 'tradeId': '44471'}, {'price': '64274.96000000', 'qty': '0.00623000', 'commission': '0.00000000', 'commissionAsset': 'USDT', 'tradeId': '44472'}, {'price': '64274.83000000', 'qty': '0.00631000', 'commission': '0.00000000', 'commissionAsset': 'USDT', 'tradeId': '44473'}, {'price': '64274.81000000', 'qty': '0.00491000', 'commission': '0.00000000', 'commissionAsset': 'USDT', 'tradeId': '44474'}, {'price': '64274.37000000', 'qty': '0.00607000', 'commission': '0.00000000', 'commissionAsset': 'USDT', 'tradeId': '44475'}, {'price': '64274.28000000', 'qty': '0.00732000', 'commission': '0.00000000', 'commissionAsset': 'USDT', 'tradeId': '44476'}, {'price': '64265.17000000', 'qty': '0.00397000', 'commission': '0.00000000', 'commissionAsset': 'USDT', 'tradeId': '44477'}, {'price': '64248.70000000', 'qty': '0.00608000', 'commission': '0.00000000', 'commissionAsset': 'USDT', 'tradeId': '44478'}, {'price': '64246.58000000', 'qty': '0.00576000', 'commission': '0.00000000', 'commissionAsset': 'USDT', 'tradeId': '44479'}, {'price': '64230.70000000', 'qty': '0.00662000', 'commission': '0.00000000', 'commissionAsset': 'USDT', 'tradeId': '44480'}, {'price': '64110.13000000', 'qty': '0.00780000', 'commission': '0.00000000', 'commissionAsset': 'USDT', 'tradeId': '44481'}, {'price': '63531.95000000', 'qty': '0.00630000', 'commission': '0.00000000', 'commissionAsset': 'USDT', 'tradeId': '44482'}], 'selfTradePreventionMode': 'EXPIRE_MAKER'}, 'id': '1159108', 'clientOrderId': 'x-R4BD3S82cc4b8c519e5cf0fb6a3008', 'timestamp': 1722495450958, 'datetime': '2024-08-01T06:57:30.958Z', 'lastTradeTimestamp': None, 'lastUpdateTimestamp': 1722495450958, 'symbol': 'WBTC/USDT', 'type': 'market', 'timeInForce': 'GTC', 'postOnly': False, 'reduceOnly': None, 'side': 'sell', 'price': 64183.00627981142, 'triggerPrice': None, 'amount': 0.18699, 'cost': 4628.8784129, 'average': 64183.00627981142, 'filled': 0.07212, 'remaining': 0.11487, 'status': 'expired', 'fee': None, 'trades': [{'info': {'price': '64274.97000000', 'qty': '0.00475000', 'commission': '0.00000000', 'commissionAsset': 'USDT', 'tradeId': '44471'}, 'timestamp': None, 'datetime': None, 'symbol': 'WBTC/USDT', 'id': '44471', 'order': None, 'type': None, 'side': None, 'takerOrMaker': None, 'price': 64274.97, 'amount': 0.00475, 'cost': 305.3061075, 'fee': {'cost': 0.0, 'currency': 'USDT'}, 'fees': [{'cost': 0.0, 'currency': 'USDT'}]}, {'info': {'price': '64274.96000000', 'qty': '0.00623000', 'commission': '0.00000000', 'commissionAsset': 'USDT', 'tradeId': '44472'}, 'timestamp': None, 'datetime': None, 'symbol': 'WBTC/USDT', 'id': '44472', 'order': None, 'type': None, 'side': None, 'takerOrMaker': None, 'price': 64274.96, 'amount': 0.00623, 'cost': 400.4330008, 'fee': {'cost': 0.0, 'currency': 'USDT'}, 'fees': [{'cost': 0.0, 'currency': 'USDT'}]}, {'info': {'price': '64274.83000000', 'qty': '0.00631000', 'commission': '0.00000000', 'commissionAsset': 'USDT', 'tradeId': '44473'}, 'timestamp': None, 'datetime': None, 'symbol': 'WBTC/USDT', 'id': '44473', 'order': None, 'type': None, 'side': None, 'takerOrMaker': None, 'price': 64274.83, 'amount': 0.00631, 'cost': 405.5741773, 'fee': {'cost': 0.0, 'currency': 'USDT'}, 'fees': [{'cost': 0.0, 'currency': 'USDT'}]}, {'info': {'price': '64274.81000000', 'qty': '0.00491000', 'commission': '0.00000000', 'commissionAsset': 'USDT', 'tradeId': '44474'}, 'timestamp': None, 'datetime': None, 'symbol': 'WBTC/USDT', 'id': '44474', 'order': None, 'type': None, 'side': None, 'takerOrMaker': None, 'price': 64274.81, 'amount': 0.00491, 'cost': 315.5893171, 'fee': {'cost': 0.0, 'currency': 'USDT'}, 'fees': [{'cost': 0.0, 'currency': 'USDT'}]}, {'info': {'price': '64274.37000000', 'qty': '0.00607000', 'commission': '0.00000000', 'commissionAsset': 'USDT', 'tradeId': '44475'}, 'timestamp': None, 'datetime': None, 'symbol': 'WBTC/USDT', 'id': '44475', 'order': None, 'type': None, 'side': None, 'takerOrMaker': None, 'price': 64274.37, 'amount': 0.00607, 'cost': 390.1454259, 'fee': {'cost': 0.0, 'currency': 'USDT'}, 'fees': [{'cost': 0.0, 'currency': 'USDT'}]}, {'info': {'price': '64274.28000000', 'qty': '0.00732000', 'commission': '0.00000000', 'commissionAsset': 'USDT', 'tradeId': '44476'}, 'timestamp': None, 'datetime': None, 'symbol': 'WBTC/USDT', 'id': '44476', 'order': None, 'type': None, 'side': None, 'takerOrMaker': None, 'price': 64274.28, 'amount': 0.00732, 'cost': 470.4877296, 'fee': {'cost': 0.0, 'currency': 'USDT'}, 'fees': [{'cost': 0.0, 'currency': 'USDT'}]}, {'info': {'price': '64265.17000000', 'qty': '0.00397000', 'commission': '0.00000000', 'commissionAsset': 'USDT', 'tradeId': '44477'}, 'timestamp': None, 'datetime': None, 'symbol': 'WBTC/USDT', 'id': '44477', 'order': None, 'type': None, 'side': None, 'takerOrMaker': None, 'price': 64265.17, 'amount': 0.00397, 'cost': 255.1327249, 'fee': {'cost': 0.0, 'currency': 'USDT'}, 'fees': [{'cost': 0.0, 'currency': 'USDT'}]}, {'info': {'price': '64248.70000000', 'qty': '0.00608000', 'commission': '0.00000000', 'commissionAsset': 'USDT', 'tradeId': '44478'}, 'timestamp': None, 'datetime': None, 'symbol': 'WBTC/USDT', 'id': '44478', 'order': None, 'type': None, 'side': None, 'takerOrMaker': None, 'price': 64248.7, 'amount': 0.00608, 'cost': 390.632096, 'fee': {'cost': 0.0, 'currency': 'USDT'}, 'fees': [{'cost': 0.0, 'currency': 'USDT'}]}, {'info': {'price': '64246.58000000', 'qty': '0.00576000', 'commission': '0.00000000', 'commissionAsset': 'USDT', 'tradeId': '44479'}, 'timestamp': None, 'datetime': None, 'symbol': 'WBTC/USDT', 'id': '44479', 'order': None, 'type': None, 'side': None, 'takerOrMaker': None, 'price': 64246.58, 'amount': 0.00576, 'cost': 370.0603008, 'fee': {'cost': 0.0, 'currency': 'USDT'}, 'fees': [{'cost': 0.0, 'currency': 'USDT'}]}, {'info': {'price': '64230.70000000', 'qty': '0.00662000', 'commission': '0.00000000', 'commissionAsset': 'USDT', 'tradeId': '44480'}, 'timestamp': None, 'datetime': None, 'symbol': 'WBTC/USDT', 'id': '44480', 'order': None, 'type': None, 'side': None, 'takerOrMaker': None, 'price': 64230.7, 'amount': 0.00662, 'cost': 425.207234, 'fee': {'cost': 0.0, 'currency': 'USDT'}, 'fees': [{'cost': 0.0, 'currency': 'USDT'}]}, {'info': {'price': '64110.13000000', 'qty': '0.00780000', 'commission': '0.00000000', 'commissionAsset': 'USDT', 'tradeId': '44481'}, 'timestamp': None, 'datetime': None, 'symbol': 'WBTC/USDT', 'id': '44481', 'order': None, 'type': None, 'side': None, 'takerOrMaker': None, 'price': 64110.13, 'amount': 0.0078, 'cost': 500.059014, 'fee': {'cost': 0.0, 'currency': 'USDT'}, 'fees': [{'cost': 0.0, 'currency': 'USDT'}]}, {'info': {'price': '63531.95000000', 'qty': '0.00630000', 'commission': '0.00000000', 'commissionAsset': 'USDT', 'tradeId': '44482'}, 'timestamp': None, 'datetime': None, 'symbol': 'WBTC/USDT', 'id': '44482', 'order': None, 'type': None, 'side': None, 'takerOrMaker': None, 'price': 63531.95, 'amount': 0.0063, 'cost': 400.251285, 'fee': {'cost': 0.0, 'currency': 'USDT'}, 'fees': [{'cost': 0.0, 'currency': 'USDT'}]}], 'fees': [], 'stopPrice': None, 'takeProfitPrice': None, 'stopLossPrice': None}\n",
      "Trading pair BRL/USDT not available on Binance.\n",
      "Creating market sell order for 18446.0 SHIB to USDT\n",
      "Exchange error for SHIB/USDT: binance {\"code\":-1013,\"msg\":\"Filter failure: NOTIONAL\"}\n",
      "Creating market sell order for 677.0 POLS to USDT\n",
      "Order created: {'info': {'symbol': 'POLSUSDT', 'orderId': '149906', 'orderListId': '-1', 'clientOrderId': 'x-R4BD3S8260d9e44c255e041b666cc6', 'transactTime': '1722495451625', 'price': '0.00000000', 'origQty': '677.00000000', 'executedQty': '0.00000000', 'cummulativeQuoteQty': '0.00000000', 'status': 'EXPIRED', 'timeInForce': 'GTC', 'type': 'MARKET', 'side': 'SELL', 'workingTime': '1722495451625', 'fills': [], 'selfTradePreventionMode': 'EXPIRE_MAKER'}, 'id': '149906', 'clientOrderId': 'x-R4BD3S8260d9e44c255e041b666cc6', 'timestamp': 1722495451625, 'datetime': '2024-08-01T06:57:31.625Z', 'lastTradeTimestamp': None, 'lastUpdateTimestamp': 1722495451625, 'symbol': 'POLS/USDT', 'type': 'market', 'timeInForce': 'GTC', 'postOnly': False, 'reduceOnly': None, 'side': 'sell', 'price': None, 'triggerPrice': None, 'amount': 677.0, 'cost': 0.0, 'average': None, 'filled': 0.0, 'remaining': 677.0, 'status': 'expired', 'fee': None, 'trades': [], 'fees': [], 'stopPrice': None, 'takeProfitPrice': None, 'stopLossPrice': None}\n",
      "Creating market sell order for 8175.0 MDX to USDT\n",
      "Order created: {'info': {'symbol': 'MDXUSDT', 'orderId': '459778', 'orderListId': '-1', 'clientOrderId': 'x-R4BD3S82d5f851c0d6e48c8cb168a9', 'transactTime': '1722495451979', 'price': '0.00000000', 'origQty': '8175.00000000', 'executedQty': '0.00000000', 'cummulativeQuoteQty': '0.00000000', 'status': 'EXPIRED', 'timeInForce': 'GTC', 'type': 'MARKET', 'side': 'SELL', 'workingTime': '1722495451979', 'fills': [], 'selfTradePreventionMode': 'EXPIRE_MAKER'}, 'id': '459778', 'clientOrderId': 'x-R4BD3S82d5f851c0d6e48c8cb168a9', 'timestamp': 1722495451979, 'datetime': '2024-08-01T06:57:31.979Z', 'lastTradeTimestamp': None, 'lastUpdateTimestamp': 1722495451979, 'symbol': 'MDX/USDT', 'type': 'market', 'timeInForce': 'GTC', 'postOnly': False, 'reduceOnly': None, 'side': 'sell', 'price': None, 'triggerPrice': None, 'amount': 8175.0, 'cost': 0.0, 'average': None, 'filled': 0.0, 'remaining': 8175.0, 'status': 'expired', 'fee': None, 'trades': [], 'fees': [], 'stopPrice': None, 'takeProfitPrice': None, 'stopLossPrice': None}\n",
      "Creating market sell order for 146.0 BOND to USDT\n",
      "Order created: {'info': {'symbol': 'BONDUSDT', 'orderId': '286588', 'orderListId': '-1', 'clientOrderId': 'x-R4BD3S825f8abff6931e0b922b8e83', 'transactTime': '1722495452303', 'price': '0.00000000', 'origQty': '146.00000000', 'executedQty': '0.00000000', 'cummulativeQuoteQty': '0.00000000', 'status': 'EXPIRED', 'timeInForce': 'GTC', 'type': 'MARKET', 'side': 'SELL', 'workingTime': '1722495452303', 'fills': [], 'selfTradePreventionMode': 'EXPIRE_MAKER'}, 'id': '286588', 'clientOrderId': 'x-R4BD3S825f8abff6931e0b922b8e83', 'timestamp': 1722495452303, 'datetime': '2024-08-01T06:57:32.303Z', 'lastTradeTimestamp': None, 'lastUpdateTimestamp': 1722495452303, 'symbol': 'BOND/USDT', 'type': 'market', 'timeInForce': 'GTC', 'postOnly': False, 'reduceOnly': None, 'side': 'sell', 'price': None, 'triggerPrice': None, 'amount': 146.0, 'cost': 0.0, 'average': None, 'filled': 0.0, 'remaining': 146.0, 'status': 'expired', 'fee': None, 'trades': [], 'fees': [], 'stopPrice': None, 'takeProfitPrice': None, 'stopLossPrice': None}\n",
      "Creating market sell order for 18446.0 XEC to USDT\n",
      "Exchange error for XEC/USDT: binance {\"code\":-1013,\"msg\":\"Filter failure: NOTIONAL\"}\n",
      "Creating market sell order for 47.0 RNDR to USDT\n",
      "Order created: {'info': {'symbol': 'RNDRUSDT', 'orderId': '747515', 'orderListId': '-1', 'clientOrderId': 'x-R4BD3S82f53569de4fe59a36131c7', 'transactTime': '1722495453018', 'price': '0.00000000', 'origQty': '47.00000000', 'executedQty': '0.00000000', 'cummulativeQuoteQty': '0.00000000', 'status': 'EXPIRED', 'timeInForce': 'GTC', 'type': 'MARKET', 'side': 'SELL', 'workingTime': '1722495453018', 'fills': [], 'selfTradePreventionMode': 'EXPIRE_MAKER'}, 'id': '747515', 'clientOrderId': 'x-R4BD3S82f53569de4fe59a36131c7', 'timestamp': 1722495453018, 'datetime': '2024-08-01T06:57:33.018Z', 'lastTradeTimestamp': None, 'lastUpdateTimestamp': 1722495453018, 'symbol': 'RNDR/USDT', 'type': 'market', 'timeInForce': 'GTC', 'postOnly': False, 'reduceOnly': None, 'side': 'sell', 'price': None, 'triggerPrice': None, 'amount': 47.0, 'cost': 0.0, 'average': None, 'filled': 0.0, 'remaining': 47.0, 'status': 'expired', 'fee': None, 'trades': [], 'fees': [], 'stopPrice': None, 'takeProfitPrice': None, 'stopLossPrice': None}\n",
      "Creating market sell order for 18446.0 BTTC to USDT\n",
      "Exchange error for BTTC/USDT: binance {\"code\":-1013,\"msg\":\"Filter failure: NOTIONAL\"}\n",
      "Creating market sell order for 18446.0 EPX to USDT\n",
      "Exchange error for EPX/USDT: binance {\"code\":-1013,\"msg\":\"Filter failure: NOTIONAL\"}\n",
      "Creating market sell order for 18446.0 LUNC to USDT\n",
      "Exchange error for LUNC/USDT: binance {\"code\":-1013,\"msg\":\"Filter failure: NOTIONAL\"}\n",
      "Trading pair PLN/USDT not available on Binance.\n",
      "Trading pair RON/USDT not available on Binance.\n",
      "Trading pair ARS/USDT not available on Binance.\n",
      "Creating market sell order for 18446.0 PEPE to USDT\n",
      "Exchange error for PEPE/USDT: binance {\"code\":-1013,\"msg\":\"Filter failure: NOTIONAL\"}\n",
      "Creating market sell order for 18446.0 BONK to USDT\n",
      "Exchange error for BONK/USDT: binance {\"code\":-1013,\"msg\":\"Filter failure: NOTIONAL\"}\n",
      "Trading pair JPY/USDT not available on Binance.\n",
      "Trading pair MXN/USDT not available on Binance.\n",
      "Trading pair CZK/USDT not available on Binance.\n"
     ]
    }
   ],
   "source": [
    "from time import sleep \n",
    "\n",
    "def convert_to_usdt():\n",
    "    try:\n",
    "        # Fetch the balance\n",
    "        balance = exchange.fetch_balance()\n",
    "\n",
    "        # Identify non-USDT assets with positive balances\n",
    "        non_usdt_assets = {currency: amount for currency, amount in balance['total'].items() if amount > 0 and currency != 'USDT'}\n",
    "\n",
    "        # Print the current balance\n",
    "        print(\"Current balances:\")\n",
    "        for currency, amount in non_usdt_assets.items():\n",
    "            print(f\"{currency}: {amount}\")\n",
    "\n",
    "        list_of_orders  =[]\n",
    "        # Convert each non-USDT asset to USDT\n",
    "        for currency, amount in non_usdt_assets.items():\n",
    "            symbol = f\"{currency}/USDT\"\n",
    "            try:\n",
    "                # Check if the trading pair exists\n",
    "                if symbol in exchange.load_markets():\n",
    "                    print(f\"Creating market sell order for {amount} {currency} to USDT\")\n",
    "                    order = exchange.create_market_sell_order(symbol, amount)\n",
    "                    print(f\"Order created: {order}\")\n",
    "                    list_of_orders.append(order)\n",
    "                else:\n",
    "                    print(f\"Trading pair {symbol} not available on Binance.\")\n",
    "            except ccxt.ExchangeError as e:\n",
    "                print(f\"Exchange error for {symbol}: {str(e)}\")\n",
    "            except Exception as e:\n",
    "                print(f\"An unexpected error occurred for {symbol}: {str(e)}\")\n",
    "\n",
    "        return list_of_orders\n",
    "    except ccxt.NetworkError as e:\n",
    "        print(f\"Network error: {str(e)}\")\n",
    "    except ccxt.ExchangeError as e:\n",
    "        print(f\"Exchange error: {str(e)}\")\n",
    "    except Exception as e:\n",
    "        print(f\"An unexpected error occurred: {str(e)}\")\n",
    "\n",
    "# Convert the portfolio to USDT\n",
    "list_of_orders = convert_to_usdt()\n"
   ]
  },
  {
   "cell_type": "code",
   "execution_count": null,
   "id": "354cdaba-9e6c-446c-8538-3ece023ac258",
   "metadata": {},
   "outputs": [],
   "source": []
  },
  {
   "cell_type": "code",
   "execution_count": 22,
   "id": "ffc8a9d2-f788-4b0d-8a11-e88aadb09944",
   "metadata": {},
   "outputs": [
    {
     "name": "stdout",
     "output_type": "stream",
     "text": [
      "Total balances:\n"
     ]
    },
    {
     "data": {
      "text/plain": [
       "{'USDT': 252139.44272624,\n",
       " 'DOCK': 16156.0,\n",
       " 'WIN': 18446.0,\n",
       " 'TRY': 18466.0,\n",
       " 'ZAR': 18466.0,\n",
       " 'IDRT': 18466.0,\n",
       " 'UAH': 18466.0,\n",
       " 'DAI': 10000.0,\n",
       " 'WBTC': 0.11487,\n",
       " 'BRL': 97.0,\n",
       " 'SHIB': 18446.0,\n",
       " 'POLS': 677.0,\n",
       " 'MDX': 8175.0,\n",
       " 'BOND': 146.0,\n",
       " 'XEC': 18446.0,\n",
       " 'RNDR': 47.0,\n",
       " 'BTTC': 18446.0,\n",
       " 'EPX': 18446.0,\n",
       " 'LUNC': 18446.0,\n",
       " 'PLN': 18466.0,\n",
       " 'RON': 18466.0,\n",
       " 'ARS': 18466.0,\n",
       " 'PEPE': 18446.0,\n",
       " 'BONK': 18446.0,\n",
       " 'JPY': 18466.0,\n",
       " 'MXN': 18466.0,\n",
       " 'CZK': 18466.0}"
      ]
     },
     "execution_count": 22,
     "metadata": {},
     "output_type": "execute_result"
    }
   ],
   "source": [
    "get_balance()"
   ]
  },
  {
   "cell_type": "code",
   "execution_count": 26,
   "id": "b38cc712-218a-4ba6-82d8-282331225c9e",
   "metadata": {},
   "outputs": [
    {
     "data": {
      "text/plain": [
       "['BTC/USDT',\n",
       " 'ETH/USDT',\n",
       " 'BNB/USDT',\n",
       " 'LTC/USDT',\n",
       " 'XRP/USDT',\n",
       " 'TRX/USDT',\n",
       " 'NEO/USDT',\n",
       " 'QTUM/USDT',\n",
       " 'ADA/USDT',\n",
       " 'EOS/USDT',\n",
       " 'TUSD/USDT',\n",
       " 'IOTA/USDT',\n",
       " 'XLM/USDT',\n",
       " 'ONT/USDT',\n",
       " 'ETC/USDT',\n",
       " 'ICX/USDT',\n",
       " 'NULS/USDT',\n",
       " 'VET/USDT',\n",
       " 'USDC/USDT',\n",
       " 'LINK/USDT',\n",
       " 'ONG/USDT',\n",
       " 'HOT/USDT',\n",
       " 'ZIL/USDT',\n",
       " 'ZRX/USDT',\n",
       " 'FET/USDT',\n",
       " 'BAT/USDT',\n",
       " 'ZEC/USDT',\n",
       " 'IOST/USDT',\n",
       " 'CELR/USDT',\n",
       " 'DASH/USDT',\n",
       " 'THETA/USDT',\n",
       " 'ENJ/USDT',\n",
       " 'MATIC/USDT',\n",
       " 'ATOM/USDT',\n",
       " 'TFUEL/USDT',\n",
       " 'ONE/USDT',\n",
       " 'FTM/USDT',\n",
       " 'ALGO/USDT',\n",
       " 'DOGE/USDT',\n",
       " 'DUSK/USDT',\n",
       " 'ANKR/USDT',\n",
       " 'WIN/USDT',\n",
       " 'COS/USDT',\n",
       " 'MTL/USDT',\n",
       " 'DENT/USDT',\n",
       " 'KEY/USDT',\n",
       " 'DOCK/USDT',\n",
       " 'WAN/USDT',\n",
       " 'FUN/USDT',\n",
       " 'CVC/USDT',\n",
       " 'CHZ/USDT',\n",
       " 'BAND/USDT',\n",
       " 'XTZ/USDT',\n",
       " 'REN/USDT',\n",
       " 'RVN/USDT',\n",
       " 'HBAR/USDT',\n",
       " 'NKN/USDT',\n",
       " 'STX/USDT',\n",
       " 'KAVA/USDT',\n",
       " 'ARPA/USDT',\n",
       " 'IOTX/USDT',\n",
       " 'RLC/USDT',\n",
       " 'CTXC/USDT',\n",
       " 'BCH/USDT',\n",
       " 'TROY/USDT',\n",
       " 'VITE/USDT',\n",
       " 'FTT/USDT',\n",
       " 'EUR/USDT',\n",
       " 'OGN/USDT',\n",
       " 'WRX/USDT',\n",
       " 'LSK/USDT',\n",
       " 'BNT/USDT',\n",
       " 'LTO/USDT',\n",
       " 'MBL/USDT',\n",
       " 'COTI/USDT',\n",
       " 'STPT/USDT',\n",
       " 'DATA/USDT',\n",
       " 'SOL/USDT',\n",
       " 'CTSI/USDT',\n",
       " 'HIVE/USDT',\n",
       " 'CHR/USDT',\n",
       " 'ARDR/USDT',\n",
       " 'MDT/USDT',\n",
       " 'STMX/USDT',\n",
       " 'KNC/USDT',\n",
       " 'LRC/USDT',\n",
       " 'COMP/USDT',\n",
       " 'SC/USDT',\n",
       " 'ZEN/USDT',\n",
       " 'SNX/USDT',\n",
       " 'VTHO/USDT',\n",
       " 'DGB/USDT',\n",
       " 'SXP/USDT',\n",
       " 'MKR/USDT',\n",
       " 'DCR/USDT',\n",
       " 'STORJ/USDT',\n",
       " 'MANA/USDT',\n",
       " 'YFI/USDT',\n",
       " 'BAL/USDT',\n",
       " 'BLZ/USDT']"
      ]
     },
     "execution_count": 26,
     "metadata": {},
     "output_type": "execute_result"
    }
   ],
   "source": [
    "trading_symbols = []\n",
    "for i in markets:\n",
    "    if i.endswith('/USDT'):\n",
    "        currency = i.split('/')\n",
    "        trading_symbols.append(i)\n",
    "        if len(trading_symbols) >=100:\n",
    "            break \n",
    "\n",
    "trading_symbols"
   ]
  },
  {
   "cell_type": "code",
   "execution_count": null,
   "id": "bc388e93-1922-4c0e-9537-d41885d54d47",
   "metadata": {},
   "outputs": [],
   "source": []
  },
  {
   "cell_type": "code",
   "execution_count": null,
   "id": "072ced7e-5709-4bcb-b78e-4182fc03de8d",
   "metadata": {},
   "outputs": [],
   "source": [
    "import numpy as np\n",
    "from time import sleep\n",
    "\n",
    "def calculate_sma(prices, period):\n",
    "    return np.mean(prices[-period:])\n",
    "\n",
    "def sma_trading_strategy(symbol, short_period=5, long_period=20, budget_info=None):\n",
    "    close_prices = get_indicators(symbol, limit=long_period)\n",
    "    \n",
    "    if len(close_prices) < long_period:\n",
    "        print(f\"Not enough data to calculate SMA for {symbol}\")\n",
    "        return budget_info\n",
    "\n",
    "    short_sma = calculate_sma(close_prices, short_period)\n",
    "    long_sma = calculate_sma(close_prices, long_period)\n",
    "    \n",
    "    current_price = get_current_price(symbol.split('/')[0])\n",
    "    \n",
    "    if short_sma > long_sma:\n",
    "        print(f\"Short SMA ({short_sma}) is above Long SMA ({long_sma}). Buy signal for {symbol}.\")\n",
    "        if budget_info['USDT'] >= current_price:\n",
    "            amount_to_buy = budget_info['USDT'] / current_price\n",
    "            buy_currency_amount(symbol.split('/')[0], amount_to_buy)\n",
    "            budget_info['BTC'] += amount_to_buy\n",
    "            budget_info['USDT'] -= amount_to_buy * current_price\n",
    "        else:\n",
    "            print(f\"Not enough USDT to buy {symbol.split('/')[0]}. Available USDT: {budget_info['USDT']}.\")\n",
    "    elif short_sma < long_sma:\n",
    "        print(f\"Short SMA ({short_sma}) is below Long SMA ({long_sma}). Sell signal for {symbol}.\")\n",
    "        if budget_info['BTC'] > 0:\n",
    "            sell_currency_amount(symbol.split('/')[0], budget_info['BTC'])\n",
    "            budget_info['USDT'] += budget_info['BTC'] * current_price\n",
    "            budget_info['BTC'] = 0\n",
    "        else:\n",
    "            print(f\"No BTC available in the portfolio to sell.\")\n",
    "    else:\n",
    "        print(f\"No clear signal for {symbol}.\")\n",
    "    \n",
    "    return budget_info\n",
    "\n",
    "# Example usage\n",
    "budget_info = {'BTC': 0, 'USDT': 1000}  # Initialize with 0 BTC and 1000 USDT\n",
    "\n",
    "for _ in range(60):\n",
    "    budget_info = sma_trading_strategy('BTC/USDT', budget_info=budget_info)\n",
    "    sleep(60)  # Sleep for 60 seconds (1 minute)\n"
   ]
  }
 ],
 "metadata": {
  "kernelspec": {
   "display_name": "Python 3 (ipykernel)",
   "language": "python",
   "name": "python3"
  },
  "language_info": {
   "codemirror_mode": {
    "name": "ipython",
    "version": 3
   },
   "file_extension": ".py",
   "mimetype": "text/x-python",
   "name": "python",
   "nbconvert_exporter": "python",
   "pygments_lexer": "ipython3",
   "version": "3.12.4"
  }
 },
 "nbformat": 4,
 "nbformat_minor": 5
}
